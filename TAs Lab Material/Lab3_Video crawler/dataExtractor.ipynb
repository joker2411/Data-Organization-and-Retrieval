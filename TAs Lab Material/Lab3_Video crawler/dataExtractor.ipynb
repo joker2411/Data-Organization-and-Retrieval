{
 "cells": [
  {
   "cell_type": "code",
   "execution_count": null,
   "id": "24542ada",
   "metadata": {},
   "outputs": [],
   "source": [
    "import pandas as pd\n",
    "import numpy as np\n",
    "import re\n",
    "from urllib.request import urlopen\n",
    "from bs4 import BeautifulSoup\n",
    "import urllib.request\n",
    "import requests\n",
    "from bs4 import BeautifulSoup\n",
    "import os "
   ]
  },
  {
   "cell_type": "code",
   "execution_count": null,
   "id": "3a27aa29",
   "metadata": {},
   "outputs": [],
   "source": [
    "def get_data(pageNo): \n",
    "\n",
    "    headers = {\"User-Agent\":\"Mozilla/5.0 (Windows NT 10.0; Win64; x64; rv:66.0) Gecko/20100101 Firefox/66.0\", \"Accept-Encoding\":\"gzip, deflate\", \"Accept\":\"text/html,application/xhtml+xml,application/xml;q=0.9,*/*;q=0.8\", \"DNT\":\"1\",\"Connection\":\"close\", \"Upgrade-Insecure-Requests\":\"1\"}\n",
    "    #proxy = '103.15.60.23:8080'\n",
    "    r = requests.get('https://www.amazon.in/s?bbn=1389401031&rh=n%3A976419031%2Cn%3A1389401031%2Cn%3A1389432031&dc&qid=1631382284&rnid=1389401031&ref=lp_1389401031_nr_n_1',headers=headers,timeout=1500)#proxies = {'http':proxy,'https':proxy},timeout=600)\n",
    "    content = r.content\n",
    "    soup = BeautifulSoup(content, features=\"html.parser\")\n",
    "    #print(soup)\n",
    "    alls = []\n",
    "    counter=0;\n",
    "    \n",
    "    for d in soup.findAll('div', attrs={'class':'a-section a-spacing-none octopus-pc-item-block octopus-pc-asin-block'}):\n",
    "        name = d.find('span', attrs={'class':'a-size-base a-color-base'})\n",
    "        price = d.find('span', attrs={'class':'a-price-whole'})\n",
    "        olderprice=d.find('span', attrs={'class':'a-size-mini a-color-tertiary a-text-strike'})\n",
    "        \n",
    "        #Image scraping from webpage\n",
    "        imageURL2=d.find('img')\n",
    "        imageURL=imageURL2['src']\n",
    "        all1=[]\n",
    "        if name is not None:\n",
    "            name1=name.text\n",
    "            name1=name1.strip()\n",
    "            all1.append(name1)\n",
    "        else:\n",
    "            all1.append(\"unknown-product\")\n",
    "            \n",
    "        if price is not None:\n",
    "            all1.append(price.text)\n",
    "        else:\n",
    "            all1.append(\"unknown-price\")\n",
    "        \n",
    "        if olderprice is not None:\n",
    "            olderprice1=olderprice.text\n",
    "            olderprice1=olderprice1.strip()\n",
    "            all1.append(olderprice1)\n",
    "        else:\n",
    "            all1.append(\"unknown-olderprice\")\n",
    "            \n",
    "        if imageURL is not None:\n",
    "            all1.append(imageURL)\n",
    "        else:\n",
    "            all1.append(\"unknown-URL\")\n",
    "            \n",
    "        alls.append(all1)    \n",
    "    \n",
    "    return alls\n",
    "\n",
    "\n",
    "def amazonData():\n",
    "    results = []\n",
    "    print(\"Writing data to CSV file...\")\n",
    "    for i in range(1, no_pages+1):\n",
    "    \tresults.append(get_data(i))\n",
    "    flatten = lambda l: [item for sublist in l for item in sublist] #flattens a list of lists to produce a single list\n",
    "    df = pd.DataFrame(flatten(results),columns=['Mobile Name','Price','Old Price','URL'])\t\n",
    "    df.to_csv(cwd+'/amazon_products.csv', index=True, encoding='utf-8')"
   ]
  }
 ],
 "metadata": {
  "kernelspec": {
   "display_name": "Python 3 (ipykernel)",
   "language": "python",
   "name": "python3"
  },
  "language_info": {
   "codemirror_mode": {
    "name": "ipython",
    "version": 3
   },
   "file_extension": ".py",
   "mimetype": "text/x-python",
   "name": "python",
   "nbconvert_exporter": "python",
   "pygments_lexer": "ipython3",
   "version": "3.8.11"
  }
 },
 "nbformat": 4,
 "nbformat_minor": 5
}
