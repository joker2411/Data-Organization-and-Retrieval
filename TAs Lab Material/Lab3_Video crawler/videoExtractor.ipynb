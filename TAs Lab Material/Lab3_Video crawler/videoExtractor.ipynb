{
 "cells": [
  {
   "cell_type": "code",
   "execution_count": 17,
   "id": "7969e9cc",
   "metadata": {},
   "outputs": [
    {
     "name": "stdout",
     "output_type": "stream",
     "text": [
      "Downloading file:63038b4ad5_F40_360p_600.mp4\n",
      "63038b4ad5_F40_360p_600.mp4 downloaded!\n",
      "\n",
      "All videos downloaded!\n"
     ]
    }
   ],
   "source": [
    "import pandas as pd\n",
    "import numpy as np\n",
    "import re\n",
    "from urllib.request import urlopen\n",
    "from bs4 import BeautifulSoup\n",
    "import urllib.request\n",
    "import requests\n",
    "from bs4 import BeautifulSoup\n",
    "import os \n",
    "\n",
    "def get_video_data(): \n",
    "    headers = {\"User-Agent\":\"Mozilla/5.0 (Windows NT 10.0; Win64; x64; rv:66.0) Gecko/20100101 Firefox/66.0\", \"Accept-Encoding\":\"gzip, deflate\", \"Accept\":\"text/html,application/xhtml+xml,application/xml;q=0.9,*/*;q=0.8\", \"DNT\":\"1\",\"Connection\":\"close\", \"Upgrade-Insecure-Requests\":\"1\"}\n",
    "    #proxy = '103.15.60.23:8080'\n",
    "    r = requests.get('https://navbharattimes.indiatimes.com/video/news/kashmiri-boy-funny-reaction-on-injection-watch-viral-video/videoshow/86226291.cms',headers=headers,timeout=600)#proxies = {'http':proxy,'https':proxy},timeout=600)\n",
    "    content = r.content\n",
    "    soup = BeautifulSoup(content,\"html.parser\")\n",
    "    #print(soup)\n",
    "    alls = []\n",
    "    counter=0;\n",
    "    \n",
    "    for d in soup.findAll(\"meta\", itemprop=\"contenturl\"):\n",
    "        file_name = d[\"content\"].split('/')[-1] \n",
    "        print( \"Downloading file:%s\"%file_name)\n",
    "        \n",
    "        r2 = requests.get(d[\"content\"], stream = True)\n",
    "        with open(file_name, 'wb') as f: \n",
    "            for chunk in r2.iter_content(chunk_size = 1024*1024): \n",
    "                if chunk: \n",
    "                    f.write(chunk) \n",
    "          \n",
    "        print( \"%s downloaded!\\n\"%file_name )\n",
    "        print (\"All videos downloaded!\")\n",
    "        #counter=counter+1\n",
    "        #urllib.request.urlretrieve(d[\"content\"], \"C:/Users/Hp/Desktop/ResearchWork/LabWork/Amazon_Images/videos\"+str(counter))\n",
    "    \n",
    "get_video_data()"
   ]
  },
  {
   "cell_type": "code",
   "execution_count": null,
   "id": "9a161a2b",
   "metadata": {
    "collapsed": true
   },
   "outputs": [],
   "source": []
  }
 ],
 "metadata": {
  "kernelspec": {
   "display_name": "Python 3 (ipykernel)",
   "language": "python",
   "name": "python3"
  },
  "language_info": {
   "codemirror_mode": {
    "name": "ipython",
    "version": 3
   },
   "file_extension": ".py",
   "mimetype": "text/x-python",
   "name": "python",
   "nbconvert_exporter": "python",
   "pygments_lexer": "ipython3",
   "version": "3.8.11"
  }
 },
 "nbformat": 4,
 "nbformat_minor": 5
}
