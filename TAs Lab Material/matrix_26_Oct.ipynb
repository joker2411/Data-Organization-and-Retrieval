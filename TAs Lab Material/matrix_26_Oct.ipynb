{
 "cells": [
  {
   "cell_type": "code",
   "execution_count": 1,
   "id": "06eca98f",
   "metadata": {},
   "outputs": [],
   "source": [
    "import nltk\n",
    "\n",
    "# nltk.download('stopwords')\n",
    "# nltk.download('punkt')\n",
    "\n",
    "from nltk.corpus import stopwords\n",
    "from nltk.tokenize import word_tokenize\n",
    "\n",
    "import numpy as np\n",
    "\n",
    "\n",
    "\n",
    "stop_words = set(stopwords.words('english'))"
   ]
  },
  {
   "cell_type": "code",
   "execution_count": 2,
   "id": "cbbfefc4",
   "metadata": {},
   "outputs": [],
   "source": [
    "# Collection of documents (corpus)\n",
    "\n",
    "review_1 =  \"The Glider is a great soccer ball run 100 @\"\n",
    "review_2 = \"What a bad soccer ball ... \" \n",
    "review_3 = \"I am happy with The glider run $50\""
   ]
  },
  {
   "cell_type": "code",
   "execution_count": 3,
   "id": "fab03d5b",
   "metadata": {},
   "outputs": [
    {
     "data": {
      "text/plain": [
       "['The Glider is a great soccer ball run 100 @',\n",
       " 'What a bad soccer ball ... ',\n",
       " 'I am happy with The glider run $50']"
      ]
     },
     "execution_count": 3,
     "metadata": {},
     "output_type": "execute_result"
    }
   ],
   "source": [
    "docs = [review_1, review_2, review_3]\n",
    "docs"
   ]
  },
  {
   "cell_type": "code",
   "execution_count": 4,
   "id": "9fc09352",
   "metadata": {},
   "outputs": [
    {
     "data": {
      "text/plain": [
       "'The Glider is a great soccer ball run 100 @ What a bad soccer ball ...  I am happy with The glider run $50'"
      ]
     },
     "execution_count": 4,
     "metadata": {},
     "output_type": "execute_result"
    }
   ],
   "source": [
    "\n",
    "all_collection = \" \".join(docs)\n",
    "all_collection\n"
   ]
  },
  {
   "cell_type": "code",
   "execution_count": 5,
   "id": "bf23119a",
   "metadata": {},
   "outputs": [],
   "source": [
    "def pre_process(doc):\n",
    "    # lower case\n",
    "    lower_text = doc.lower()\n",
    "    \n",
    "    print(lower_text)\n",
    "    \n",
    "    # tokenize\n",
    "    tokens = word_tokenize(lower_text)\n",
    "    \n",
    "    print(tokens)\n",
    "    # remove numbers\n",
    "    words = [word for word in tokens if word.isalpha()]\n",
    "    \n",
    "    print(words)\n",
    "    # remove stop words\n",
    "    filtered_words = []\n",
    " \n",
    "    for w in words:\n",
    "        if w not in stop_words:\n",
    "            filtered_words.append(w)\n",
    "    \n",
    "    print(filtered_words)\n",
    "    \n",
    "    # remove duplicate words\n",
    "    final_words = set(filtered_words)\n",
    "\n",
    "    final_words = sorted(list(final_words))\n",
    "\n",
    "    return final_words\n"
   ]
  },
  {
   "cell_type": "code",
   "execution_count": 7,
   "id": "90f27d4c",
   "metadata": {},
   "outputs": [
    {
     "name": "stdout",
     "output_type": "stream",
     "text": [
      "the glider is a great soccer ball run 100 @ what a bad soccer ball ...  i am happy with the glider run $50\n",
      "['the', 'glider', 'is', 'a', 'great', 'soccer', 'ball', 'run', '100', '@', 'what', 'a', 'bad', 'soccer', 'ball', '...', 'i', 'am', 'happy', 'with', 'the', 'glider', 'run', '$', '50']\n",
      "['the', 'glider', 'is', 'a', 'great', 'soccer', 'ball', 'run', 'what', 'a', 'bad', 'soccer', 'ball', 'i', 'am', 'happy', 'with', 'the', 'glider', 'run']\n",
      "['glider', 'great', 'soccer', 'ball', 'run', 'bad', 'soccer', 'ball', 'happy', 'glider', 'run']\n",
      "7\n",
      "['bad', 'ball', 'glider', 'great', 'happy', 'run', 'soccer']\n"
     ]
    }
   ],
   "source": [
    "unique_terms = pre_process(all_collection)\n",
    "\n",
    "print(len(unique_terms))\n",
    "print(unique_terms)"
   ]
  },
  {
   "cell_type": "code",
   "execution_count": 8,
   "id": "b819bb24",
   "metadata": {},
   "outputs": [
    {
     "data": {
      "text/plain": [
       "{'bad': [0, 1, 0],\n",
       " 'ball': [1, 1, 0],\n",
       " 'glider': [0, 0, 1],\n",
       " 'great': [1, 0, 0],\n",
       " 'happy': [0, 0, 1],\n",
       " 'run': [1, 0, 1],\n",
       " 'soccer': [1, 1, 0]}"
      ]
     },
     "execution_count": 8,
     "metadata": {},
     "output_type": "execute_result"
    }
   ],
   "source": [
    "# Construct a term-document matrix\n",
    "# here as a Python dictionary for ease of interpretability\n",
    "\n",
    "doc_term_matrix = {}\n",
    "\n",
    "for term in unique_terms:\n",
    "    doc_term_matrix[term] = []\n",
    "    \n",
    "    for doc in docs:\n",
    "        if term in doc:\n",
    "            doc_term_matrix[term].append(1)\n",
    "        else: doc_term_matrix[term].append(0)\n",
    "\n",
    "doc_term_matrix"
   ]
  },
  {
   "cell_type": "code",
   "execution_count": 9,
   "id": "b4a6d40b",
   "metadata": {},
   "outputs": [
    {
     "name": "stdout",
     "output_type": "stream",
     "text": [
      "[0 0 1]\n",
      "[1 0 1]\n",
      "-------\n",
      "[0 0 1]\n"
     ]
    }
   ],
   "source": [
    "# The query to find all documents containing \"glider\" AND \"run\"\n",
    "# Is just a bitwise AND:\n",
    "\n",
    "docs_array = np.array(docs, dtype='object')\n",
    "\n",
    "v1 = np.array(doc_term_matrix['glider'])    \n",
    "v2 = np.array(doc_term_matrix['run'])\n",
    "\n",
    "print(v1)\n",
    "print(v2)\n",
    "print('-------')\n",
    "v3 = v1 & v2\n",
    "print(v3)"
   ]
  },
  {
   "cell_type": "code",
   "execution_count": 10,
   "id": "5b6bedc1",
   "metadata": {},
   "outputs": [
    {
     "name": "stdout",
     "output_type": "stream",
     "text": [
      "[1 1 0]\n",
      "[1 0 1]\n",
      "-------\n",
      "[1 1 1]\n"
     ]
    }
   ],
   "source": [
    "# The query to find all documents containing \"glider\" OR \"run\"\n",
    "# Is just a bitwise AND:\n",
    "v1 = np.array(doc_term_matrix['soccer'])    \n",
    "v2 = np.array(doc_term_matrix['run'])\n",
    "\n",
    "print(v1)\n",
    "print(v2)\n",
    "print('-------')\n",
    "v3 = v1 | v2\n",
    "print(v3)"
   ]
  },
  {
   "cell_type": "code",
   "execution_count": null,
   "id": "2296a666",
   "metadata": {},
   "outputs": [],
   "source": []
  },
  {
   "cell_type": "code",
   "execution_count": null,
   "id": "e6adc0ce",
   "metadata": {},
   "outputs": [],
   "source": []
  },
  {
   "cell_type": "code",
   "execution_count": null,
   "id": "98e5f060",
   "metadata": {},
   "outputs": [],
   "source": []
  },
  {
   "cell_type": "code",
   "execution_count": null,
   "id": "908483c5",
   "metadata": {},
   "outputs": [],
   "source": []
  }
 ],
 "metadata": {
  "kernelspec": {
   "display_name": "Python 3 (ipykernel)",
   "language": "python",
   "name": "python3"
  },
  "language_info": {
   "codemirror_mode": {
    "name": "ipython",
    "version": 3
   },
   "file_extension": ".py",
   "mimetype": "text/x-python",
   "name": "python",
   "nbconvert_exporter": "python",
   "pygments_lexer": "ipython3",
   "version": "3.8.10"
  }
 },
 "nbformat": 4,
 "nbformat_minor": 5
}
