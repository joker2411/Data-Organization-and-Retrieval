{
 "cells": [
  {
   "cell_type": "code",
   "execution_count": 70,
   "id": "6a68ebfb",
   "metadata": {},
   "outputs": [],
   "source": [
    "import nltk\n",
    "\n",
    "# nltk.download('stopwords')\n",
    "# nltk.download('punkt')\n",
    "\n",
    "from nltk.corpus import stopwords\n",
    "from nltk.tokenize import word_tokenize\n",
    "\n",
    "import numpy as np\n",
    "\n",
    "\n",
    "\n",
    "stop_words = set(stopwords.words('english'))"
   ]
  },
  {
   "cell_type": "code",
   "execution_count": 75,
   "id": "c48165ea",
   "metadata": {},
   "outputs": [
    {
     "data": {
      "text/plain": [
       "{'a',\n",
       " 'about',\n",
       " 'above',\n",
       " 'after',\n",
       " 'again',\n",
       " 'against',\n",
       " 'ain',\n",
       " 'all',\n",
       " 'am',\n",
       " 'an',\n",
       " 'and',\n",
       " 'any',\n",
       " 'are',\n",
       " 'aren',\n",
       " \"aren't\",\n",
       " 'as',\n",
       " 'at',\n",
       " 'be',\n",
       " 'because',\n",
       " 'been',\n",
       " 'before',\n",
       " 'being',\n",
       " 'below',\n",
       " 'between',\n",
       " 'both',\n",
       " 'but',\n",
       " 'by',\n",
       " 'can',\n",
       " 'couldn',\n",
       " \"couldn't\",\n",
       " 'd',\n",
       " 'did',\n",
       " 'didn',\n",
       " \"didn't\",\n",
       " 'do',\n",
       " 'does',\n",
       " 'doesn',\n",
       " \"doesn't\",\n",
       " 'doing',\n",
       " 'don',\n",
       " \"don't\",\n",
       " 'down',\n",
       " 'during',\n",
       " 'each',\n",
       " 'few',\n",
       " 'for',\n",
       " 'from',\n",
       " 'further',\n",
       " 'had',\n",
       " 'hadn',\n",
       " \"hadn't\",\n",
       " 'has',\n",
       " 'hasn',\n",
       " \"hasn't\",\n",
       " 'have',\n",
       " 'haven',\n",
       " \"haven't\",\n",
       " 'having',\n",
       " 'he',\n",
       " 'her',\n",
       " 'here',\n",
       " 'hers',\n",
       " 'herself',\n",
       " 'him',\n",
       " 'himself',\n",
       " 'his',\n",
       " 'how',\n",
       " 'i',\n",
       " 'if',\n",
       " 'in',\n",
       " 'into',\n",
       " 'is',\n",
       " 'isn',\n",
       " \"isn't\",\n",
       " 'it',\n",
       " \"it's\",\n",
       " 'its',\n",
       " 'itself',\n",
       " 'just',\n",
       " 'll',\n",
       " 'm',\n",
       " 'ma',\n",
       " 'me',\n",
       " 'mightn',\n",
       " \"mightn't\",\n",
       " 'more',\n",
       " 'most',\n",
       " 'mustn',\n",
       " \"mustn't\",\n",
       " 'my',\n",
       " 'myself',\n",
       " 'needn',\n",
       " \"needn't\",\n",
       " 'no',\n",
       " 'nor',\n",
       " 'not',\n",
       " 'now',\n",
       " 'o',\n",
       " 'of',\n",
       " 'off',\n",
       " 'on',\n",
       " 'once',\n",
       " 'only',\n",
       " 'or',\n",
       " 'other',\n",
       " 'our',\n",
       " 'ours',\n",
       " 'ourselves',\n",
       " 'out',\n",
       " 'over',\n",
       " 'own',\n",
       " 're',\n",
       " 's',\n",
       " 'same',\n",
       " 'shan',\n",
       " \"shan't\",\n",
       " 'she',\n",
       " \"she's\",\n",
       " 'should',\n",
       " \"should've\",\n",
       " 'shouldn',\n",
       " \"shouldn't\",\n",
       " 'so',\n",
       " 'some',\n",
       " 'such',\n",
       " 't',\n",
       " 'than',\n",
       " 'that',\n",
       " \"that'll\",\n",
       " 'the',\n",
       " 'their',\n",
       " 'theirs',\n",
       " 'them',\n",
       " 'themselves',\n",
       " 'then',\n",
       " 'there',\n",
       " 'these',\n",
       " 'they',\n",
       " 'this',\n",
       " 'those',\n",
       " 'through',\n",
       " 'to',\n",
       " 'too',\n",
       " 'under',\n",
       " 'until',\n",
       " 'up',\n",
       " 've',\n",
       " 'very',\n",
       " 'was',\n",
       " 'wasn',\n",
       " \"wasn't\",\n",
       " 'we',\n",
       " 'were',\n",
       " 'weren',\n",
       " \"weren't\",\n",
       " 'what',\n",
       " 'when',\n",
       " 'where',\n",
       " 'which',\n",
       " 'while',\n",
       " 'who',\n",
       " 'whom',\n",
       " 'why',\n",
       " 'will',\n",
       " 'with',\n",
       " 'won',\n",
       " \"won't\",\n",
       " 'wouldn',\n",
       " \"wouldn't\",\n",
       " 'y',\n",
       " 'you',\n",
       " \"you'd\",\n",
       " \"you'll\",\n",
       " \"you're\",\n",
       " \"you've\",\n",
       " 'your',\n",
       " 'yours',\n",
       " 'yourself',\n",
       " 'yourselves'}"
      ]
     },
     "execution_count": 75,
     "metadata": {},
     "output_type": "execute_result"
    }
   ],
   "source": [
    "stop_words"
   ]
  },
  {
   "cell_type": "code",
   "execution_count": 76,
   "id": "003b1413",
   "metadata": {},
   "outputs": [
    {
     "data": {
      "text/plain": [
       "179"
      ]
     },
     "execution_count": 76,
     "metadata": {},
     "output_type": "execute_result"
    }
   ],
   "source": [
    "len(stop_words)"
   ]
  },
  {
   "cell_type": "code",
   "execution_count": 81,
   "id": "dc2e6c95",
   "metadata": {},
   "outputs": [],
   "source": [
    "# Collection of documents (corpus)\n",
    "\n",
    "review_1 = \"The Glider is a great soccer ball @ !\"\n",
    "review_2 = \"What a bad soccer ball\"\n",
    "review_3 = \"I am happy with The glider\""
   ]
  },
  {
   "cell_type": "code",
   "execution_count": 83,
   "id": "20c4657c",
   "metadata": {},
   "outputs": [
    {
     "data": {
      "text/plain": [
       "['The Glider is a great soccer ball @ !',\n",
       " 'What a bad soccer ball',\n",
       " 'I am happy with The glider']"
      ]
     },
     "execution_count": 83,
     "metadata": {},
     "output_type": "execute_result"
    }
   ],
   "source": [
    "docs = [review_1, review_2, review_3]\n",
    "docs"
   ]
  },
  {
   "cell_type": "code",
   "execution_count": 84,
   "id": "0ba3ef5d",
   "metadata": {},
   "outputs": [],
   "source": [
    "# Gather the set of all unique terms\n",
    "\n",
    "# unique_terms = {term for doc in docs for term in doc.split()}\n",
    "# unique_terms"
   ]
  },
  {
   "cell_type": "code",
   "execution_count": 85,
   "id": "7aa14170",
   "metadata": {},
   "outputs": [
    {
     "data": {
      "text/plain": [
       "'I am happy with The glider'"
      ]
     },
     "execution_count": 85,
     "metadata": {},
     "output_type": "execute_result"
    }
   ],
   "source": [
    "docs[2]"
   ]
  },
  {
   "cell_type": "code",
   "execution_count": 86,
   "id": "bbffad21",
   "metadata": {},
   "outputs": [
    {
     "data": {
      "text/plain": [
       "'The Glider is a great soccer ball @ ! What a bad soccer ball I am happy with The glider'"
      ]
     },
     "execution_count": 86,
     "metadata": {},
     "output_type": "execute_result"
    }
   ],
   "source": [
    "\n",
    "all_collection = \" \".join(docs)\n",
    "all_collection\n"
   ]
  },
  {
   "cell_type": "code",
   "execution_count": 87,
   "id": "8dfee211",
   "metadata": {},
   "outputs": [],
   "source": [
    "def pre_process(doc):\n",
    "    # lower case\n",
    "    lower_text = doc.lower()\n",
    "    \n",
    "    print(lower_text)\n",
    "    \n",
    "    # tokenize\n",
    "    tokens = word_tokenize(lower_text)\n",
    "    \n",
    "    print(tokens)\n",
    "    # remove numbers\n",
    "    words = [word for word in tokens if word.isalpha()]\n",
    "    \n",
    "    print(words)\n",
    "    # remove stop words\n",
    "    filtered_words = []\n",
    " \n",
    "    for w in words:\n",
    "        if w not in stop_words:\n",
    "            filtered_words.append(w)\n",
    "    \n",
    "    print(filtered_words)\n",
    "    \n",
    "    # remove duplicate words\n",
    "    final_words = set(filtered_words)\n",
    "\n",
    "    final_words = sorted(list(final_words))\n",
    "\n",
    "    return final_words\n"
   ]
  },
  {
   "cell_type": "code",
   "execution_count": 90,
   "id": "75adbbff",
   "metadata": {},
   "outputs": [
    {
     "name": "stdout",
     "output_type": "stream",
     "text": [
      "the glider is a great soccer ball @ ! what a bad soccer ball i am happy with the glider\n",
      "['the', 'glider', 'is', 'a', 'great', 'soccer', 'ball', '@', '!', 'what', 'a', 'bad', 'soccer', 'ball', 'i', 'am', 'happy', 'with', 'the', 'glider']\n",
      "['the', 'glider', 'is', 'a', 'great', 'soccer', 'ball', 'what', 'a', 'bad', 'soccer', 'ball', 'i', 'am', 'happy', 'with', 'the', 'glider']\n",
      "['glider', 'great', 'soccer', 'ball', 'bad', 'soccer', 'ball', 'happy', 'glider']\n",
      "6\n",
      "['bad', 'ball', 'glider', 'great', 'happy', 'soccer']\n"
     ]
    }
   ],
   "source": [
    "unique_terms = pre_process(all_collection)\n",
    "\n",
    "print(len(unique_terms))\n",
    "print(unique_terms)"
   ]
  },
  {
   "cell_type": "code",
   "execution_count": null,
   "id": "c6549f41",
   "metadata": {},
   "outputs": [],
   "source": []
  },
  {
   "cell_type": "code",
   "execution_count": 91,
   "id": "5d7fa6e0",
   "metadata": {},
   "outputs": [
    {
     "data": {
      "text/plain": [
       "['bad', 'ball', 'glider', 'great', 'happy', 'soccer']"
      ]
     },
     "execution_count": 91,
     "metadata": {},
     "output_type": "execute_result"
    }
   ],
   "source": [
    "unique_terms"
   ]
  },
  {
   "cell_type": "code",
   "execution_count": 92,
   "id": "103b3e1f",
   "metadata": {},
   "outputs": [
    {
     "data": {
      "text/plain": [
       "['The Glider is a great soccer ball @ !',\n",
       " 'What a bad soccer ball',\n",
       " 'I am happy with The glider']"
      ]
     },
     "execution_count": 92,
     "metadata": {},
     "output_type": "execute_result"
    }
   ],
   "source": [
    "docs\n"
   ]
  },
  {
   "cell_type": "code",
   "execution_count": 93,
   "id": "0a446e75",
   "metadata": {},
   "outputs": [
    {
     "data": {
      "text/plain": [
       "'I am happy with The glider'"
      ]
     },
     "execution_count": 93,
     "metadata": {},
     "output_type": "execute_result"
    }
   ],
   "source": [
    "docs[2]"
   ]
  },
  {
   "cell_type": "code",
   "execution_count": 94,
   "id": "b0296d5b",
   "metadata": {},
   "outputs": [
    {
     "data": {
      "text/plain": [
       "['bad', 'ball', 'glider', 'great', 'happy', 'soccer']"
      ]
     },
     "execution_count": 94,
     "metadata": {},
     "output_type": "execute_result"
    }
   ],
   "source": [
    "unique_terms"
   ]
  },
  {
   "cell_type": "code",
   "execution_count": 95,
   "id": "8cc1a4b4",
   "metadata": {},
   "outputs": [
    {
     "data": {
      "text/plain": [
       "['The Glider is a great soccer ball @ !',\n",
       " 'What a bad soccer ball',\n",
       " 'I am happy with The glider']"
      ]
     },
     "execution_count": 95,
     "metadata": {},
     "output_type": "execute_result"
    }
   ],
   "source": [
    "docs"
   ]
  },
  {
   "cell_type": "code",
   "execution_count": 96,
   "id": "7e22ca66",
   "metadata": {},
   "outputs": [
    {
     "data": {
      "text/plain": [
       "['I', 'am', 'happy', 'with', 'The', 'glider']"
      ]
     },
     "execution_count": 96,
     "metadata": {},
     "output_type": "execute_result"
    }
   ],
   "source": [
    "docs[2].split()"
   ]
  },
  {
   "cell_type": "code",
   "execution_count": 97,
   "id": "0f82791d",
   "metadata": {},
   "outputs": [
    {
     "data": {
      "text/plain": [
       "{'bad': {1},\n",
       " 'ball': {0, 1},\n",
       " 'glider': {2},\n",
       " 'great': {0},\n",
       " 'happy': {2},\n",
       " 'soccer': {0, 1}}"
      ]
     },
     "execution_count": 97,
     "metadata": {},
     "output_type": "execute_result"
    }
   ],
   "source": [
    "inverted_index = {}\n",
    "\n",
    "for word in unique_terms:\n",
    "    for i, doc in enumerate(docs):\n",
    "        if word in doc.split():\n",
    "            if word in inverted_index:\n",
    "                inverted_index[word].add(i)\n",
    "            else:\n",
    "                inverted_index[word] = {i}\n",
    "                        \n",
    "inverted_index"
   ]
  },
  {
   "cell_type": "code",
   "execution_count": 98,
   "id": "1d4b0198",
   "metadata": {},
   "outputs": [
    {
     "data": {
      "text/plain": [
       "{'bad': {1},\n",
       " 'ball': {0, 1},\n",
       " 'glider': {2},\n",
       " 'great': {0},\n",
       " 'happy': {2},\n",
       " 'soccer': {0, 1}}"
      ]
     },
     "execution_count": 98,
     "metadata": {},
     "output_type": "execute_result"
    }
   ],
   "source": [
    "\n",
    "sortedInvertedIndex = {k : v for k, v in sorted(inverted_index.items())}\n",
    "\n",
    "\n",
    "sortedInvertedIndex"
   ]
  },
  {
   "cell_type": "code",
   "execution_count": 55,
   "id": "67fa3c45",
   "metadata": {},
   "outputs": [
    {
     "data": {
      "text/plain": [
       "{0, 1}"
      ]
     },
     "execution_count": 55,
     "metadata": {},
     "output_type": "execute_result"
    }
   ],
   "source": [
    "posting_list = sortedInvertedIndex['soccer']\n",
    "posting_list"
   ]
  },
  {
   "cell_type": "code",
   "execution_count": 99,
   "id": "87d9e5f0",
   "metadata": {},
   "outputs": [],
   "source": [
    "def or_postings(posting1, posting2):\n",
    "    p1 = 0\n",
    "    p2 = 0\n",
    "    result = list()\n",
    "    while p1 < len(posting1) and p2 < len(posting2):\n",
    "        if posting1[p1] == posting2[p2]:\n",
    "            result.append(posting1[p1])\n",
    "            p1 += 1\n",
    "            p2 += 1\n",
    "        elif posting1[p1] > posting2[p2]:\n",
    "            result.append(posting2[p2])\n",
    "            p2 += 1\n",
    "        else:\n",
    "            result.append(posting1[p1])\n",
    "            p1 += 1\n",
    "    while p1 < len(posting1):\n",
    "        result.append(posting1[p1])\n",
    "        p1 += 1\n",
    "    while p2 < len(posting2):\n",
    "        result.append(posting2[p2])\n",
    "        p2 += 1\n",
    "    return result"
   ]
  },
  {
   "cell_type": "code",
   "execution_count": 100,
   "id": "7d308548",
   "metadata": {},
   "outputs": [
    {
     "name": "stdout",
     "output_type": "stream",
     "text": [
      "[0, 1]\n",
      "[2]\n"
     ]
    },
    {
     "data": {
      "text/plain": [
       "[0, 1, 2]"
      ]
     },
     "execution_count": 100,
     "metadata": {},
     "output_type": "execute_result"
    }
   ],
   "source": [
    "pl_1 = list(sortedInvertedIndex['soccer'])\n",
    "pl_2 = list(sortedInvertedIndex['glider'])\n",
    "\n",
    "print(pl_1)\n",
    "print(pl_2)\n",
    "\n",
    "or_postings(pl_1, pl_2) "
   ]
  },
  {
   "cell_type": "code",
   "execution_count": 58,
   "id": "9206b165",
   "metadata": {},
   "outputs": [],
   "source": [
    "def and_postings(posting1, posting2):\n",
    "    p1 = 0\n",
    "    p2 = 0\n",
    "    result = list()\n",
    "    while p1 < len(posting1) and p2 < len(posting2):\n",
    "        if posting1[p1] == posting2[p2]:\n",
    "            result.append(posting1[p1])\n",
    "            p1 += 1\n",
    "            p2 += 1\n",
    "        elif posting1[p1] > posting2[p2]:\n",
    "            p2 += 1\n",
    "        else:\n",
    "            p1 += 1\n",
    "    return result"
   ]
  },
  {
   "cell_type": "code",
   "execution_count": 59,
   "id": "0e1cc063",
   "metadata": {},
   "outputs": [
    {
     "name": "stdout",
     "output_type": "stream",
     "text": [
      "[0]\n",
      "[0, 1]\n"
     ]
    },
    {
     "data": {
      "text/plain": [
       "[0]"
      ]
     },
     "execution_count": 59,
     "metadata": {},
     "output_type": "execute_result"
    }
   ],
   "source": [
    "pl_1 = list(sortedInvertedIndex['great'])\n",
    "pl_2 = list(sortedInvertedIndex['soccer'])\n",
    "\n",
    "print(pl_1)\n",
    "print(pl_2)\n",
    "and_postings(pl_1, pl_2)"
   ]
  },
  {
   "cell_type": "code",
   "execution_count": null,
   "id": "e181537b",
   "metadata": {},
   "outputs": [],
   "source": []
  }
 ],
 "metadata": {
  "kernelspec": {
   "display_name": "Python 3 (ipykernel)",
   "language": "python",
   "name": "python3"
  },
  "language_info": {
   "codemirror_mode": {
    "name": "ipython",
    "version": 3
   },
   "file_extension": ".py",
   "mimetype": "text/x-python",
   "name": "python",
   "nbconvert_exporter": "python",
   "pygments_lexer": "ipython3",
   "version": "3.8.10"
  }
 },
 "nbformat": 4,
 "nbformat_minor": 5
}
