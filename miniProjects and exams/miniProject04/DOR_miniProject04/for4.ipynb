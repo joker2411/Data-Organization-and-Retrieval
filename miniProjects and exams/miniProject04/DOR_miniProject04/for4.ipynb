{
 "cells": [
  {
   "cell_type": "code",
   "execution_count": 5,
   "id": "91737d6e",
   "metadata": {},
   "outputs": [],
   "source": [
    "import nltk\n",
    "from nltk.tokenize import word_tokenize\n",
    "from nltk.corpus import stopwords\n",
    "from nltk.stem import WordNetLemmatizer\n",
    "\n",
    "lemmatizer = WordNetLemmatizer()\n",
    "\n",
    "a = set(stopwords.words(\"english\"))"
   ]
  },
  {
   "cell_type": "code",
   "execution_count": 10,
   "id": "b15109ab",
   "metadata": {},
   "outputs": [
    {
     "data": {
      "text/plain": [
       "['account', 'accounting', 'come', 'coming', 'caring']"
      ]
     },
     "execution_count": 10,
     "metadata": {},
     "output_type": "execute_result"
    }
   ],
   "source": [
    "l = [\"account\", \"accounting\", \"come\", \"coming\",\"caring\"]\n",
    "l1 = []\n",
    "for ele in l:\n",
    "    l1.append(lemmatizer.lemmatize(ele))\n",
    "    \n",
    "l1"
   ]
  },
  {
   "cell_type": "code",
   "execution_count": 11,
   "id": "21e42113",
   "metadata": {},
   "outputs": [
    {
     "data": {
      "text/plain": [
       "'foot'"
      ]
     },
     "execution_count": 11,
     "metadata": {},
     "output_type": "execute_result"
    }
   ],
   "source": [
    "lemmatizer.lemmatize(\"feet\")"
   ]
  },
  {
   "cell_type": "code",
   "execution_count": 12,
   "id": "06edea68",
   "metadata": {},
   "outputs": [
    {
     "data": {
      "text/plain": [
       "'cat'"
      ]
     },
     "execution_count": 12,
     "metadata": {},
     "output_type": "execute_result"
    }
   ],
   "source": [
    "lemmatizer.lemmatize(\"cats\")"
   ]
  },
  {
   "cell_type": "code",
   "execution_count": 5,
   "id": "60eb31eb",
   "metadata": {},
   "outputs": [],
   "source": [
    "# new = defaultdict(dict)\n",
    "new = {'well': {0: 3, 1: 1},'stops': {0: 1}}"
   ]
  },
  {
   "cell_type": "code",
   "execution_count": 14,
   "id": "5ddbf4cd",
   "metadata": {},
   "outputs": [
    {
     "data": {
      "text/plain": [
       "int"
      ]
     },
     "execution_count": 14,
     "metadata": {},
     "output_type": "execute_result"
    }
   ],
   "source": [
    "type(new['well'][0])"
   ]
  },
  {
   "cell_type": "code",
   "execution_count": 1,
   "id": "905d4c6a",
   "metadata": {},
   "outputs": [
    {
     "data": {
      "text/plain": [
       "1"
      ]
     },
     "execution_count": 1,
     "metadata": {},
     "output_type": "execute_result"
    }
   ],
   "source": [
    "1**2"
   ]
  },
  {
   "cell_type": "code",
   "execution_count": 2,
   "id": "0b299ef7",
   "metadata": {},
   "outputs": [
    {
     "data": {
      "text/plain": [
       "16"
      ]
     },
     "execution_count": 2,
     "metadata": {},
     "output_type": "execute_result"
    }
   ],
   "source": [
    "2**4"
   ]
  },
  {
   "cell_type": "code",
   "execution_count": 3,
   "id": "db846304",
   "metadata": {},
   "outputs": [
    {
     "data": {
      "text/plain": [
       "[1, 2, 3, 4]"
      ]
     },
     "execution_count": 3,
     "metadata": {},
     "output_type": "execute_result"
    }
   ],
   "source": [
    "a = [1,2,3,4,5,6,7,8,9]\n",
    "a[0:4]"
   ]
  },
  {
   "cell_type": "code",
   "execution_count": 9,
   "id": "ad3e3142",
   "metadata": {},
   "outputs": [
    {
     "data": {
      "text/plain": [
       "[(2, 0), (1, 5), (0, 2)]"
      ]
     },
     "execution_count": 9,
     "metadata": {},
     "output_type": "execute_result"
    }
   ],
   "source": [
    "n = sorted([(0,2),(1,5),(2,0)], key = lambda x:x[0],reverse=True,)\n",
    "n"
   ]
  },
  {
   "cell_type": "code",
   "execution_count": 11,
   "id": "16f35524",
   "metadata": {},
   "outputs": [
    {
     "data": {
      "text/plain": [
       "[(1, 5), (0, 2)]"
      ]
     },
     "execution_count": 11,
     "metadata": {},
     "output_type": "execute_result"
    }
   ],
   "source": [
    "import heapq\n",
    "\n",
    "n = [(0,2),(1,5),(2,0)]\n",
    "heapq.nlargest(2, n, key = lambda x:x[1])"
   ]
  },
  {
   "cell_type": "code",
   "execution_count": null,
   "id": "3c38fd31",
   "metadata": {},
   "outputs": [],
   "source": []
  }
 ],
 "metadata": {
  "kernelspec": {
   "display_name": "Python 3 (ipykernel)",
   "language": "python",
   "name": "python3"
  },
  "language_info": {
   "codemirror_mode": {
    "name": "ipython",
    "version": 3
   },
   "file_extension": ".py",
   "mimetype": "text/x-python",
   "name": "python",
   "nbconvert_exporter": "python",
   "pygments_lexer": "ipython3",
   "version": "3.8.11"
  }
 },
 "nbformat": 4,
 "nbformat_minor": 5
}
